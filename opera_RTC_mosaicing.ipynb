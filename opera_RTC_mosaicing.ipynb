{
 "cells": [
  {
   "cell_type": "markdown",
   "metadata": {
    "collapsed": true,
    "pycharm": {
     "name": "#%% md\n"
    }
   },
   "source": [
    "# Mosaicing OPERA RTC Images\n",
    "\n",
    "In this notebook, we will work with products from the Observational Products for End-Users from Remote Sensing Analysis (OPERA) project at the Jet Propolsion Labratory (JPL). OPERA data include Radiometric Terrain Correction (RTC) Synthetic Aperature Radar (SAR) images, which remove distortions by referencing the Copernicous global 30-m (GLO-30) Digital Elevation Model (DEM).\n",
    "\n",
    "OPERA Products can be accessed using the Alaska Satellite Facility (ASF) SAR Data Search tools via the graphical interface [Vertex](https://search.asf.alaska.edu/#/), the [ASF API](https://docs.asf.alaska.edu/api/basics/) or using the  [`asf_search`](https://docs.asf.alaska.edu/asf_search/basics/) python module. If you do not already have one, please create a free [Earthdata Login Account](https://urs.earthdata.nasa.gov/users/new) to access products using ASF Search Tools.\n",
    "\n",
    "In this module, we will access OPERA RTC images using the `asf_search` python module, download the selected bursts, and merge them to create a mosaic."
   ]
  },
  {
   "cell_type": "markdown",
   "source": [
    "## 1 Get temporary credentials to access OPERA data"
   ],
   "metadata": {
    "collapsed": false,
    "pycharm": {
     "name": "#%% md\n"
    }
   }
  },
  {
   "cell_type": "code",
   "execution_count": null,
   "outputs": [],
   "source": [
    "import requests\n",
    "\n",
    "credential_url = 'https://sentinel1.asf.alaska.edu/s3credentials'\n",
    "with open('.edl_token.txt', 'r') as f:\n",
    "\tedl_token = f.read()\n",
    "\n",
    "resp = requests.get(\n",
    "    credential_url,\n",
    "    cookies={\"asf-urs\": edl_token}\n",
    ")\n",
    "\n",
    "temporary_credentials = resp.json()\n",
    "print(temporary_credentials)"
   ],
   "metadata": {
    "collapsed": false,
    "pycharm": {
     "name": "#%%\n"
    }
   }
  },
  {
   "cell_type": "code",
   "execution_count": null,
   "outputs": [],
   "source": [
    "import os\n",
    "\n",
    "os.environ['AWS_ACCESS_KEY_ID'] = temporary_credentials['accessKeyId']\n",
    "os.environ['AWS_SECRET_ACCESS_KEY'] = temporary_credentials['secretAccessKey']\n",
    "os.environ['AWS_SESSION_TOKEN'] = temporary_credentials['sessionToken']\n",
    "\n",
    "os.environ['GDAL_HTTP_COOKIEFILE'] = '/tmp/cookies.txt'\n",
    "os.environ['GDAL_HTTP_COOKIEJAR']= '/tmp/cookies.txt'"
   ],
   "metadata": {
    "collapsed": false,
    "pycharm": {
     "name": "#%%\n"
    }
   }
  },
  {
   "cell_type": "markdown",
   "source": [
    "## 1. Search for OPERA RTC products over San Francisco\n",
    "After checking we have our environment correctly set up, we can perform the search for our desired products.The polygon in the search is centered over San Francisco."
   ],
   "metadata": {
    "collapsed": false
   }
  },
  {
   "cell_type": "code",
   "execution_count": null,
   "outputs": [],
   "source": [
    "import asf_search\n",
    "\n",
    "polarization = 'VH'\n",
    "\n",
    "options = {\n",
    "\t'intersectsWith': 'POLYGON((-122.5306 37.6278,-122.1372 37.6207,-122.1372 37.9566,-122.5287 37.9554,-122.5306 37.6278))',\n",
    "\t'dataset': 'OPERA-S1',\n",
    "\t'start': '2023-11-14T14:00:00Z',\n",
    "\t'end': '2023-11-14T15:00:00Z',\n",
    "\t'flightDirection': 'DESCENDING',\n",
    "\t'processingLevel': [\n",
    "\t\t'RTC',\n",
    "\t\t'RTC-STATIC'\n",
    "\t],\n",
    "\t'maxResults': '1000'\n",
    "}\n",
    "\n",
    "results = asf_search.search(**options)\n",
    "print(results)"
   ],
   "metadata": {
    "collapsed": false,
    "pycharm": {
     "name": "#%%\n"
    }
   }
  },
  {
   "cell_type": "markdown",
   "source": [
    "## 2. Get URLs for selected bursts from search results"
   ],
   "metadata": {
    "collapsed": false
   }
  },
  {
   "cell_type": "code",
   "execution_count": null,
   "outputs": [],
   "source": [
    "urls = []\n",
    "for result in results:\n",
    "\tfor url in result.umm['RelatedUrls']:\n",
    "\t\tif url['URL'].startswith('https://') and url['URL'].endswith(f'{polarization}.tif'):\n",
    "\t\t\turls.append('/vsicurl/' + url['URL'])"
   ],
   "metadata": {
    "collapsed": false,
    "pycharm": {
     "name": "#%%\n"
    }
   }
  },
  {
   "cell_type": "markdown",
   "source": [
    "## 3. Merge bursts into a single tif and save"
   ],
   "metadata": {
    "collapsed": false
   }
  },
  {
   "cell_type": "code",
   "execution_count": null,
   "outputs": [],
   "source": [
    "import osgeo_utils.gdal_merge as gdal_merge\n",
    "\n",
    "output_file_path = f'{os.getcwd()}/OPERA_RTC_San_Francisco.tif'\n",
    "\n",
    "parameters = ['', '-o', output_file_path] + urls + ['-co', 'COMPRESS=LZW']\n",
    "gdal_merge.main(parameters)"
   ],
   "metadata": {
    "collapsed": false,
    "pycharm": {
     "name": "#%%\n"
    }
   }
  }
 ],
 "metadata": {
  "kernelspec": {
   "display_name": "Python 3",
   "language": "python",
   "name": "python3"
  },
  "language_info": {
   "codemirror_mode": {
    "name": "ipython",
    "version": 2
   },
   "file_extension": ".py",
   "mimetype": "text/x-python",
   "name": "python",
   "nbconvert_exporter": "python",
   "pygments_lexer": "ipython2",
   "version": "2.7.6"
  }
 },
 "nbformat": 4,
 "nbformat_minor": 0
}