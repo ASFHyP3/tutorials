{
 "cells": [
  {
   "cell_type": "markdown",
   "id": "d20494ef",
   "metadata": {},
   "source": [
    "# Time series analysis with HyP3 and MintPy\n",
    "\n",
    "This notebook walks through performing a time-series analysis of the 2019 Ridgecrest, CA earthquake with On Demand InSAR products from the Alaska Satellite facility and MintPy. We'll:\n",
    "\n",
    "1. Use the [ASF Search Python package](https://docs.asf.alaska.edu/asf_search/basics/) to:\n",
    "   - Search ASF's catalog for Sentinel-1 SAR products covering the [Ridgecrest earthquake](https://earthquake.usgs.gov/storymap/index-ridgecrest.html)\n",
    "   - Select a reference scene to generate a baseline stack\n",
    "   - Select a [short baseline subset (SBAS)](https://docs.asf.alaska.edu/vertex/sbas/) of scene pairs for InSAR processing\n",
    "\n",
    "\n",
    "2. Use the [HyP3 Python SDK](https://hyp3-docs.asf.alaska.edu/using/sdk/) to:\n",
    "   - Request On Demand InSAR products from ASF HyP3\n",
    "   - Download the InSAR products when they are done processing\n",
    "\n",
    "\n",
    "3. Use [GDAL](https://gdal.org/api/index.html#python-api) and [MintPy](https://mintpy.readthedocs.io/en/latest/) to:\n",
    "   - Prepare the InSAR products for MintPy\n",
    "   - perform a time-series analysis with MintPy\n",
    "   \n",
    "---\n",
    "\n",
    "**Note:** This notebook does assume you have some familiarity with InSAR processing with MintPy already, and is a minimal example without much context or explanations. If you're new to InSAR and MintPy, I suggest checking out:\n",
    "* our [InSAR on Demand Story Map](https://storymaps.arcgis.com/stories/68a8a3253900411185ae9eb6bb5283d3)\n",
    "\n",
    "\n",
    "* [OpenSARlab's](https://opensarlab-docs.asf.alaska.edu/) highly detailed walkthrough of using HyP3 + MintPy via these notebooks:\n",
    "  * [Prepare a HyP3 InSAR Stack for MintPy](https://nbviewer.org/github/ASFOpenSARlab/opensarlab-notebooks/blob/master/SAR_Training/English/Master/Prepare_HyP3_InSAR_Stack_for_MintPy.ipynb)\n",
    "  * [MintPy Time-series Analysis](https://nbviewer.org/github/ASFOpenSARlab/opensarlab-notebooks/blob/master/SAR_Training/English/Master/MintPy_Time_Series_From_Prepared_Data_Stack.ipynb)\n",
    "  \n",
    "    Note: While these notebooks make some assumptions you're working in OpenSARlab, you can run these \n",
    "    notebooks outside OpenSARlab by creating [this conda environment](https://github.com/ASFOpenSARlab/opensarlab-envs/blob/main/Environment_Configs/insar_analysis_env.yml)."
   ]
  },
  {
   "cell_type": "markdown",
   "id": "b0a6e353",
   "metadata": {},
   "source": [
    "## 0. Initial Setup\n",
    "\n",
    "To run this notebook, you'll need a conda environment with the required dependencies. You can set up a new environment (recommended) and run the jupyter server like:\n",
    "```shell\n",
    "conda create -n hyp3-mintpy python=3.8 asf_search hyp3_sdk \"mintpy>=1.3.2\" pandas jupyter ipympl\n",
    "\n",
    "conda activate hyp3-mintpy\n",
    "jupyter notebook hyp3_insar_stack_for_ts_analysis.ipynb\n",
    "```\n",
    "Or, install these dependencies into your own environment:\n",
    "```shell\n",
    "conda install hyp3-mintpy python=3.8 asf_search hyp3_sdk \"mintpy>=1.3.2\" pandas jupyter ipympl\n",
    "\n",
    "jupyter notebook hyp3_insar_stack_for_ts_analysis.ipynb\n",
    "```"
   ]
  },
  {
   "cell_type": "code",
   "execution_count": null,
   "id": "a180680a-429a-4d24-b4fb-69b2b5a0146e",
   "metadata": {},
   "outputs": [],
   "source": [
    "from pathlib import Path\n",
    "import utils\n",
    "from datetime import datetime\n",
    "import hyp3_sdk as sdk\n",
    "import pandas as pd\n",
    "import matplotlib.pyplot as plt"
   ]
  },
  {
   "cell_type": "code",
   "execution_count": null,
   "id": "3c8f0a6e-f21b-4297-80e2-6b3cdecc0b7a",
   "metadata": {},
   "outputs": [],
   "source": [
    "data_dir = Path('./data')\n",
    "if not data_dir.exists():\n",
    "    data_dir.mkdir()\n",
    "\n",
    "work_dir = Path('./mintpy')\n",
    "if not work_dir.exists():\n",
    "    work_dir.mkdir()\n",
    "\n",
    "weather_dir = Path('./weather')\n",
    "if not weather_dir.exists():\n",
    "    weather_dir.mkdir()"
   ]
  },
  {
   "cell_type": "code",
   "execution_count": null,
   "id": "0526bcd3-87ba-47e7-b243-c97d0ed842f5",
   "metadata": {},
   "outputs": [],
   "source": [
    "utils.get_edgecumbe_insar_pairs()"
   ]
  },
  {
   "cell_type": "markdown",
   "id": "0e62c544",
   "metadata": {},
   "source": [
    "## 1. Load Pair List"
   ]
  },
  {
   "cell_type": "code",
   "execution_count": null,
   "id": "279cfdda-9328-46e1-b75c-1e511860a427",
   "metadata": {},
   "outputs": [],
   "source": [
    "project_name = 'edgecumbe_descending_174'\n",
    "project_name += f'_{datetime.now().strftime(\"%Y%m%dT%H:%M\")}'\n",
    "pair_list = pd.read_csv('DESCENDING_174_pairs_smaller.csv')\n",
    "\n",
    "sbas_pairs = list(zip(list(pair_list['scene1']), list(pair_list['scene2'])))"
   ]
  },
  {
   "cell_type": "markdown",
   "id": "9e5c5b0b",
   "metadata": {},
   "source": [
    "## 2. Request On Demand InSAR products from ASF HyP3\n",
    "\n",
    "Use your [NASA Earthdata login](https://urs.earthdata.nasa.gov/) to connect to [ASF HyP3](https://hyp3-docs.asf.alaska.edu/)."
   ]
  },
  {
   "cell_type": "code",
   "execution_count": null,
   "id": "be78f415",
   "metadata": {},
   "outputs": [],
   "source": [
    "hyp3 = sdk.HyP3(prompt=True)"
   ]
  },
  {
   "cell_type": "code",
   "execution_count": null,
   "id": "e1dec3dd",
   "metadata": {},
   "outputs": [],
   "source": [
    "jobs = sdk.Batch()\n",
    "for reference, secondary in sbas_pairs:\n",
    "    jobs += hyp3.submit_insar_job(reference, secondary, name=project_name,\n",
    "                                  include_dem=True, include_look_vectors=True)"
   ]
  },
  {
   "cell_type": "code",
   "execution_count": null,
   "id": "22b82d81",
   "metadata": {},
   "outputs": [],
   "source": [
    "jobs = hyp3.watch(jobs)"
   ]
  },
  {
   "cell_type": "code",
   "execution_count": null,
   "id": "a3b3d2b3",
   "metadata": {},
   "outputs": [],
   "source": [
    "jobs = hyp3.find_jobs(name=project_name, status_code = 'SUCCEEDED')"
   ]
  },
  {
   "cell_type": "code",
   "execution_count": null,
   "id": "4b461cf0",
   "metadata": {},
   "outputs": [],
   "source": [
    "insar_products = jobs.download_files(data_dir)\n",
    "insar_products = [sdk.util.extract_zipped_product(ii) for ii in insar_products]"
   ]
  },
  {
   "cell_type": "markdown",
   "id": "3181031f",
   "metadata": {},
   "source": [
    "## 3. Time-series Analysis with MintPy"
   ]
  },
  {
   "cell_type": "markdown",
   "id": "3cd1b850",
   "metadata": {},
   "source": [
    "### 3.1 Subset all GeoTIFFs to their common overlap"
   ]
  },
  {
   "cell_type": "code",
   "execution_count": null,
   "id": "31f75d5c",
   "metadata": {},
   "outputs": [],
   "source": [
    "from pathlib import Path\n",
    "from typing import List, Union\n",
    "from osgeo import gdal\n",
    "\n",
    "\n",
    "def get_common_overlap(file_list: List[Union[str, Path]]) -> List[float]:\n",
    "    \"\"\"Get the common overlap of  a list of GeoTIFF files\n",
    "    \n",
    "    Arg:\n",
    "        file_list: a list of GeoTIFF files\n",
    "    \n",
    "    Returns:\n",
    "         [ulx, uly, lrx, lry], the upper-left x, upper-left y, lower-right x, and lower-right y\n",
    "         corner coordinates of the common overlap\n",
    "    \"\"\"\n",
    "    \n",
    "    corners = [gdal.Info(str(dem), format='json')['cornerCoordinates'] for dem in file_list]\n",
    "\n",
    "    ulx = max(corner['upperLeft'][0] for corner in corners)\n",
    "    uly = min(corner['upperLeft'][1] for corner in corners)\n",
    "    lrx = min(corner['lowerRight'][0] for corner in corners)\n",
    "    lry = max(corner['lowerRight'][1] for corner in corners)\n",
    "    return [ulx, uly, lrx, lry]"
   ]
  },
  {
   "cell_type": "code",
   "execution_count": null,
   "id": "43c55f08",
   "metadata": {},
   "outputs": [],
   "source": [
    "files = data_dir.glob('*/*_dem.tif')\n",
    "overlap = get_common_overlap(files)"
   ]
  },
  {
   "cell_type": "code",
   "execution_count": null,
   "id": "20d94460",
   "metadata": {},
   "outputs": [],
   "source": [
    "from pathlib import Path\n",
    "from typing import List, Union\n",
    "\n",
    "def clip_hyp3_products_to_common_overlap(data_dir: Union[str, Path], overlap: List[float]) -> None:\n",
    "    \"\"\"Clip all GeoTIFF files to their common overlap\n",
    "    \n",
    "    Args:\n",
    "        data_dir:\n",
    "            directory containing the GeoTIFF files to clip\n",
    "        overlap:\n",
    "            a list of the upper-left x, upper-left y, lower-right-x, and lower-tight y\n",
    "            corner coordinates of the common overlap\n",
    "    Returns: None\n",
    "    \"\"\"\n",
    "    files_for_mintpy = ['_water_mask.tif', '_corr.tif', '_unw_phase.tif', '_dem.tif', '_lv_theta.tif', '_lv_phi.tif']\n",
    "    for extension in files_for_mintpy:\n",
    "        for file in data_dir.rglob(f'*{extension}'):\n",
    "            dst_file = file.parent / f'{file.stem}_clipped{file.suffix}'\n",
    "            gdal.Translate(destName=str(dst_file), srcDS=str(file), projWin=overlap)"
   ]
  },
  {
   "cell_type": "code",
   "execution_count": null,
   "id": "023ca045",
   "metadata": {},
   "outputs": [],
   "source": [
    "clip_hyp3_products_to_common_overlap(data_dir, overlap)"
   ]
  },
  {
   "cell_type": "markdown",
   "id": "92be356f",
   "metadata": {},
   "source": [
    "### 3.2 Create the MintPy config file"
   ]
  },
  {
   "cell_type": "code",
   "execution_count": null,
   "id": "9c3cf17d",
   "metadata": {},
   "outputs": [],
   "source": [
    "geographic_subset = [6315473, 6340109, 444364, 476366]\n",
    "work_dir = Path('mintpy')\n",
    "mintpy_config = work_dir / 'mintpy_config.txt'\n",
    "_ = mintpy_config.write_text(\n",
    "f\"\"\"\n",
    "##---------processor:\n",
    "mintpy.load.processor        = hyp3\n",
    "\n",
    "##---------interferogram datasets:\n",
    "mintpy.load.unwFile          = ../{data_dir}/*/*_unw_phase_clipped.tif\n",
    "mintpy.load.corFile          = ../{data_dir}/*/*_corr_clipped.tif\n",
    "\n",
    "##---------geometry datasets:\n",
    "mintpy.load.demFile          = ../{data_dir}/*/*_dem_clipped.tif\n",
    "mintpy.load.incAngleFile     = ../{data_dir}/*/*_lv_theta_clipped.tif\n",
    "mintpy.load.azAngleFile      = ../{data_dir}/*/*_lv_phi_clipped.tif\n",
    "mintpy.load.waterMaskFile    = ../{data_dir}/*/*_water_mask_clipped.tif\n",
    "\n",
    "##--------dataset geographic subset\n",
    "mintpy.subset.lalo           = [6315473:6340109, 444364:476366]\n",
    "\n",
    "##--------network selections\n",
    "mintpy.network.coherenceBased  = yes\n",
    "mintpy.network.minCoherence    = 0.7\n",
    "\n",
    "##--------unwrapping error correction\n",
    "mintpy.unwrapError.method      = no\n",
    "\n",
    "##--------troposperic phase correction\n",
    "mintpy.troposphericDelay.method = no # pyaps eventually\n",
    "mintpy.troposphericDelay.weatherModel = ERA5\n",
    "mintpy.troposphericDelay.weatherDir   = ../{weather_dir}\n",
    "\n",
    "##--------topographic phase correction\n",
    "mintpy.topographicResidual     = yes\n",
    "\"\"\")"
   ]
  },
  {
   "cell_type": "markdown",
   "id": "87385631",
   "metadata": {},
   "source": [
    "### 3.3 run MintPy to do the time series analysis"
   ]
  },
  {
   "cell_type": "code",
   "execution_count": null,
   "id": "a012c642",
   "metadata": {},
   "outputs": [],
   "source": [
    "!smallbaselineApp.py --dir {work_dir} {mintpy_config}"
   ]
  },
  {
   "cell_type": "code",
   "execution_count": null,
   "id": "117b93c9-73c5-48c5-9715-1406798f510e",
   "metadata": {},
   "outputs": [],
   "source": [
    "# %matplotlib widget\n",
    "%matplotlib inline\n",
    "import matplotlib.pyplot as plt\n",
    "from ipywidgets import interactive\n",
    "\n",
    "def view(cmd):\n",
    "    from mintpy.cli.view import cmd_line_parse\n",
    "    from mintpy.view import viewer\n",
    "    inps = cmd_line_parse(cmd.split())\n",
    "    obj = viewer()\n",
    "    obj.configure(inps)\n",
    "    obj.plot()\n",
    "    \n",
    "def tsview(cmd):\n",
    "    from mintpy.cli.tsview import cmd_line_parse\n",
    "    from mintpy.tsview import timeseriesViewer\n",
    "    inps = cmd_line_parse(cmd.split())\n",
    "    obj = timeseriesViewer()\n",
    "    obj.configure(inps)\n",
    "    obj.plot()"
   ]
  },
  {
   "cell_type": "code",
   "execution_count": null,
   "id": "cb69ce6c-41a7-4ca7-8369-a476abdebf01",
   "metadata": {},
   "outputs": [],
   "source": [
    "view(f'{work_dir}/velocity.h5 velocity --noverbose')"
   ]
  },
  {
   "cell_type": "code",
   "execution_count": null,
   "id": "42f709db-3ae3-4c13-b4c6-e1f1b5652f64",
   "metadata": {},
   "outputs": [],
   "source": [
    "tsview(f'{work_dir}/timeseries_demErr.h5 --yx 175 175 --noverbose')"
   ]
  },
  {
   "cell_type": "code",
   "execution_count": null,
   "id": "7582d2b6-a4df-4cc1-9bba-08b5f89986db",
   "metadata": {},
   "outputs": [],
   "source": []
  }
 ],
 "metadata": {
  "kernelspec": {
   "display_name": "Python [conda env:.local-mintpy]",
   "language": "python",
   "name": "conda-env-.local-mintpy-py"
  },
  "language_info": {
   "codemirror_mode": {
    "name": "ipython",
    "version": 3
   },
   "file_extension": ".py",
   "mimetype": "text/x-python",
   "name": "python",
   "nbconvert_exporter": "python",
   "pygments_lexer": "ipython3",
   "version": "3.11.3"
  }
 },
 "nbformat": 4,
 "nbformat_minor": 5
}
