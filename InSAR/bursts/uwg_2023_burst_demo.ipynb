{
 "cells": [
  {
   "cell_type": "markdown",
   "id": "b0797d0e-a0fe-4433-908d-fe21ec2ae2cd",
   "metadata": {},
   "source": [
    "# Creating Single-Burst Interferograms"
   ]
  },
  {
   "cell_type": "markdown",
   "id": "6f1830d1-85a8-462a-ad40-ac6f3c92e1a4",
   "metadata": {},
   "source": [
    "## 1. The Why"
   ]
  },
  {
   "cell_type": "markdown",
   "id": "1e101268-1987-421c-8b13-ab2be11b2cd3",
   "metadata": {},
   "source": [
    "Burst-based InSAR has several major advantages that make it incredibly useful:\n",
    "\n",
    "1. Bursts are geostationary, so you don't have to worry about migrating SLC frames\n",
    "2. Bursts are much smaller than SLCs, so you don't have to process a ton of unnessecary data if you're interested in a volcano size feature\n",
    "3. Because of advantages 1 and 2, HyP3 can offer larger quantities of useful data to users"
   ]
  },
  {
   "cell_type": "markdown",
   "id": "0881b00e-f430-48b7-9dd3-c82baae3adbf",
   "metadata": {},
   "source": [
    "To get a sense for the migrating frame issue, take a look at these side-by-side SBAS searches over Mt. Edgecumbe. The left search was done using [SLCs in Vertex](https://search.asf.alaska.edu/#/?zoom=8.266&center=-134.416,56.456&polygon=POLYGON((-135.762%2057.0503,-135.7468%2057.0503,-135.7468%2057.0562,-135.762%2057.0562,-135.762%2057.0503))&flightDirs=Descending&resultsLoaded=true&granule=S1B_IW_SLC__1SDV_20211221T151602_20211221T151629_030125_0398E3_1C5A-SLC&dataset=SENTINEL-1&productTypes=SLC&beamModes=IW), and the right was done using [bursts in Vertex](https://search.asf.alaska.edu/#/?zoom=10.950&center=-135.912,56.947&polygon=POLYGON((-135.762%2057.0503,-135.7468%2057.0503,-135.7468%2057.0562,-135.762%2057.0562,-135.762%2057.0503))&flightDirs=Descending&resultsLoaded=true&granule=S1_372326_IW3_20211221T151616_VV_1C5A-BURST&dataset=SENTINEL-1%20BURSTS&beamModes=IW&polarizations=VV)."
   ]
  },
  {
   "cell_type": "markdown",
   "id": "b3f7837f-0feb-4640-a2d6-439f9753ec84",
   "metadata": {},
   "source": [
    "<img src=\"vertex.png\" alt=\"Search Comparison\" style=\"width:900px;\"/>"
   ]
  },
  {
   "cell_type": "markdown",
   "id": "5330ccb4-488d-4288-9ac2-ec41b5ba0b45",
   "metadata": {},
   "source": [
    "## 3. Setup"
   ]
  },
  {
   "cell_type": "markdown",
   "id": "c98292cf-7721-464b-807f-33da6bd15712",
   "metadata": {},
   "source": [
    "Follow the developer setup instructions in the [HyP3-ISCE2 readme](https://github.com/asfhyp3/hyp3-isce2#developer-setup), then run the command below:\n",
    "\n",
    "```bash\n",
    "mamba activate hyp3-isce2\n",
    "mamba install -y jupyter jupyterlab hyp3_sdk\n",
    "```"
   ]
  },
  {
   "cell_type": "markdown",
   "id": "7a02761b-0384-4490-aa93-69ba5f8a7544",
   "metadata": {},
   "source": [
    "## 4. Local Python Package Interface"
   ]
  },
  {
   "cell_type": "code",
   "execution_count": null,
   "id": "8bb6bdb9-baac-4220-8bc0-d5cbe88c2f38",
   "metadata": {},
   "outputs": [],
   "source": [
    "mkdir local_run"
   ]
  },
  {
   "cell_type": "code",
   "execution_count": null,
   "id": "9c9b8424-7d38-4667-8831-8913b1a2a9f8",
   "metadata": {},
   "outputs": [],
   "source": [
    "cd local_run"
   ]
  },
  {
   "cell_type": "code",
   "execution_count": null,
   "id": "f7e43296-a265-4be3-aeec-f82e05695da5",
   "metadata": {},
   "outputs": [],
   "source": [
    "!insar_tops_burst S1_136231_IW2_20200604T022312_VV_7C85-BURST  S1_136231_IW2_20200616T022313_VV_5D11-BURST --looks 20x4"
   ]
  },
  {
   "cell_type": "code",
   "execution_count": null,
   "id": "53fa0110-1e3a-42b9-b794-31a9465490fe",
   "metadata": {},
   "outputs": [],
   "source": [
    "cd .."
   ]
  },
  {
   "cell_type": "markdown",
   "id": "84a049a2-49af-42d5-8e7a-43d48371dd93",
   "metadata": {},
   "source": [
    "## 4. HyP3 Interface"
   ]
  },
  {
   "cell_type": "code",
   "execution_count": null,
   "id": "95e06a19-614c-4b7e-8254-bc251cba964e",
   "metadata": {},
   "outputs": [],
   "source": [
    "import copy\n",
    "import hyp3_sdk as sdk\n",
    "job_definition = {\n",
    "    'job_parameters': {\n",
    "        \"granules\": [\n",
    "            \"S1_136231_IW2_20200604T022312_VV_7C85-BURST\",\n",
    "            \"S1_136231_IW2_20200616T022313_VV_5D11-BURST\"\n",
    "        ],\n",
    "        \"looks\": \"20x4\"\n",
    "    },\n",
    "    \"job_type\": \"INSAR_ISCE_BURST\",\n",
    "    \"name\": \"UWG_BURST\"\n",
    "}\n",
    "hyp3 = sdk.HyP3(api_url='https://hyp3-enterprise-test.asf.alaska.edu', prompt=True)"
   ]
  },
  {
   "cell_type": "code",
   "execution_count": null,
   "id": "0379879d-c7ed-41cf-9f92-757fe4afcc1d",
   "metadata": {},
   "outputs": [],
   "source": [
    "jobs = hyp3.submit_prepared_jobs(job_definition)"
   ]
  },
  {
   "cell_type": "code",
   "execution_count": null,
   "id": "31e9fa1d-51ef-47e3-8cba-c22bc34fb1b4",
   "metadata": {},
   "outputs": [],
   "source": [
    "jobs = hyp3.find_jobs(name='UWG_BURST', status_code = 'SUCCEEDED')\n",
    "jobs = hyp3.watch(jobs)"
   ]
  },
  {
   "cell_type": "code",
   "execution_count": null,
   "id": "e8f245e4-5bdb-4dfb-b35c-7b8e8e83016c",
   "metadata": {},
   "outputs": [],
   "source": [
    "insar_products = jobs.download_files('.')\n",
    "insar_products = [sdk.util.extract_zipped_product(ii) for ii in insar_products]"
   ]
  },
  {
   "cell_type": "markdown",
   "id": "d77eb46a-6c43-4326-9d71-ff419612f87d",
   "metadata": {},
   "source": [
    "# 4. Plot the Unwrapped Interferogram"
   ]
  },
  {
   "cell_type": "code",
   "execution_count": null,
   "id": "f6b0d430-eaac-4039-af5a-ef63af41cf1c",
   "metadata": {},
   "outputs": [],
   "source": [
    "%matplotlib inline\n",
    "import numpy as np\n",
    "from pathlib import Path\n",
    "from osgeo import gdal\n",
    "import matplotlib\n",
    "import matplotlib.pyplot as plt\n",
    "\n",
    "product_name = 'S1_136231_IW2_20200604T022312_VV_7C85-BURSTxS1_136231_IW2_20200616T022313_VV_5D11-BURST'\n",
    "\n",
    "unwrapped_file = Path(product_name) / f'{product_name}_wrapped_phase.tif'\n",
    "dem_file = Path(product_name) / f'{product_name}_dem.tif'\n",
    "\n",
    "ds = gdal.Open(str(unwrapped_file))\n",
    "unwrapped = np.ma.masked_equal(ds.GetRasterBand(1).ReadAsArray(), 0)\n",
    "del ds\n",
    "\n",
    "dem_ds = gdal.Open(str(dem_file))\n",
    "gdal.DEMProcessing('hillshade.tif', dem_ds, 'hillshade')\n",
    "hillshade_ds = gdal.Open('hillshade.tif')\n",
    "hillshade = hillshade_ds.GetRasterBand(1).ReadAsArray()\n",
    "del dem_ds, hillshade_ds\n",
    "\n",
    "f, ax = plt.subplots(1,1, figsize=(6,6))\n",
    "ax.imshow(unwrapped, alpha=0.7, cmap='hsv')\n",
    "ax.imshow(hillshade, alpha=0.4, cmap='Greys')\n",
    "ax.set_title('Unwrapped Interferogram')\n",
    "\n",
    "plt.setp(plt.gcf().get_axes(), xticks=[], yticks=[])\n",
    "plt.tight_layout()"
   ]
  },
  {
   "cell_type": "code",
   "execution_count": null,
   "id": "ffb67b25-6cd2-46f1-9e27-89753ad61e1e",
   "metadata": {},
   "outputs": [],
   "source": []
  }
 ],
 "metadata": {
  "kernelspec": {
   "display_name": "Python 3 (ipykernel)",
   "language": "python",
   "name": "python3"
  },
  "language_info": {
   "codemirror_mode": {
    "name": "ipython",
    "version": 3
   },
   "file_extension": ".py",
   "mimetype": "text/x-python",
   "name": "python",
   "nbconvert_exporter": "python",
   "pygments_lexer": "ipython3",
   "version": "3.11.3"
  }
 },
 "nbformat": 4,
 "nbformat_minor": 5
}
