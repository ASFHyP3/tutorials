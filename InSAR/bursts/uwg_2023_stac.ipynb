{
 "cells": [
  {
   "cell_type": "markdown",
   "id": "edb65a37-041e-4bb0-9850-167ff9abcf2e",
   "metadata": {},
   "source": [
    "# STAC Catalog for the Global Coherence Dataset"
   ]
  },
  {
   "cell_type": "markdown",
   "id": "fce2004e-9b41-40ce-a8fc-0e5f14c92363",
   "metadata": {},
   "source": [
    "## 1. The Why"
   ]
  },
  {
   "cell_type": "markdown",
   "id": "4cf31097-81d8-44f7-8272-011116eeffe1",
   "metadata": {},
   "source": [
    "SpatioTemporal Asset Catalogs are an emerging standard for geospatial metadata. They are the de-facto standard for commercial SAR companies, and even CMR maintains a STAC interface. Since many of users are becoming accustomed to using STAC catalogs, ASF's Tools team has been building experience working with this technology. To that end, we have created a STAC catalog and STAC API for Dr. Joseph Kellendorfer's [Global Seasonal Sentinel-1 Interferometric Coherence and Backscatter Data Set](https://registry.opendata.aws/ebd-sentinel-1-global-coherence-backscatter/). This allows users to access this dataset in a whole new way!"
   ]
  },
  {
   "cell_type": "markdown",
   "id": "9ca3064c-5d50-4ae8-bc6f-453268f6b2b1",
   "metadata": {},
   "source": [
    "## 2. STAC Browser"
   ]
  },
  {
   "cell_type": "markdown",
   "id": "3b26662e-6768-4875-b795-1932a59c9627",
   "metadata": {},
   "source": [
    "You can view our STAC catalog via [Radiant Earth's](https://radiant.earth) STAC Browser [website](https://radiantearth.github.io/stac-browser/#/external/stac.asf.alaska.edu/collections/sentinel-1-global-coherence?.language=en)."
   ]
  },
  {
   "cell_type": "markdown",
   "id": "83cbc89f-6d52-4f00-9aa3-6200341cc634",
   "metadata": {},
   "source": [
    "## 3. PySTAC Python Package"
   ]
  },
  {
   "cell_type": "markdown",
   "id": "748792f3-dba0-49ea-a3a5-76327088aa70",
   "metadata": {},
   "source": [
    "Alternatively, you can interact with our STAC API via the `PySTAC` package:"
   ]
  },
  {
   "cell_type": "code",
   "execution_count": null,
   "id": "6224336b-d043-4fa1-8557-a41add4672f3",
   "metadata": {},
   "outputs": [],
   "source": [
    "import pystac\n",
    "import pystac_client\n",
    "from datetime import datetime\n",
    "\n",
    "client_url = 'https://stac.asf.alaska.edu/'\n",
    "client = pystac_client.Client.open(client_url)\n",
    "\n",
    "collection_id = 'sentinel-1-global-coherence'\n",
    "collection = client.get_collection(collection_id)"
   ]
  },
  {
   "cell_type": "code",
   "execution_count": null,
   "id": "7a8dcf78-84dc-4c19-9ccf-1b0f367e798e",
   "metadata": {},
   "outputs": [],
   "source": [
    "collection"
   ]
  },
  {
   "cell_type": "code",
   "execution_count": null,
   "id": "8b277366-c83f-4e81-9e6c-2abe5fb22a31",
   "metadata": {},
   "outputs": [],
   "source": [
    "bbox = [-85.8173, 43.7597, -85.1838, 44.2131]  # [min_lon, min_lat, max_lon, max_lat]\n",
    "start_date = datetime(2020, 5, 1)\n",
    "end_date = datetime(2020, 6, 1)\n",
    "search = client.search(\n",
    "    max_items=10,\n",
    "    collections=['sentinel-1-global-coherence'],\n",
    "    bbox=bbox,\n",
    "    datetime=(start_date, end_date)\n",
    ")\n",
    "coh24 = [item for item in search.items() if 'COH24' in item.id][0]\n",
    "coh24"
   ]
  },
  {
   "cell_type": "code",
   "execution_count": null,
   "id": "bc06a22d-7e55-43d8-ba77-dd21e56da2f6",
   "metadata": {},
   "outputs": [],
   "source": [
    "%matplotlib widget\n",
    "import matplotlib.pyplot as plt\n",
    "from osgeo import gdal\n",
    "import numpy as np\n",
    "\n",
    "ds = gdal.Open(coh24.assets['data'].href)\n",
    "coh24_arr = np.ma.masked_equal(ds.GetRasterBand(1).ReadAsArray(), 0)\n",
    "\n",
    "f, ax = plt.subplots(1,1)\n",
    "ax.imshow(coh24_arr, vmin=0, vmax=25, cmap='Greys_r')"
   ]
  },
  {
   "cell_type": "code",
   "execution_count": null,
   "id": "2e0546d7-7bfb-4f4e-93f5-8c92ab21287e",
   "metadata": {},
   "outputs": [],
   "source": []
  }
 ],
 "metadata": {
  "kernelspec": {
   "display_name": "Python 3 (ipykernel)",
   "language": "python",
   "name": "python3"
  },
  "language_info": {
   "codemirror_mode": {
    "name": "ipython",
    "version": 3
   },
   "file_extension": ".py",
   "mimetype": "text/x-python",
   "name": "python",
   "nbconvert_exporter": "python",
   "pygments_lexer": "ipython3",
   "version": "3.11.3"
  }
 },
 "nbformat": 4,
 "nbformat_minor": 5
}
